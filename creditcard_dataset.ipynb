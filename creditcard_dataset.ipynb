{
  "cells": [
    {
      "cell_type": "code",
      "execution_count": null,
      "metadata": {
        "id": "vDbag5FVwTzH"
      },
      "outputs": [],
      "source": [
        "#importing some important libraries\n",
        "import numpy as np\n",
        "import pandas as pd\n",
        "import matplotlib.pyplot as plt\n",
        "import seaborn as sns\n",
        "import warnings\n",
        "warnings.filterwarnings('ignore')"
      ]
    },
    {
      "cell_type": "code",
      "execution_count": null,
      "metadata": {
        "colab": {
          "base_uri": "https://localhost:8080/",
          "height": 299
        },
        "id": "Dv0LjEcz2u4g",
        "outputId": "3b29a1d1-5911-43b9-8aba-780fc1c40568"
      },
      "outputs": [
        {
          "data": {
            "text/html": [
              "\n",
              "  <div id=\"df-356c2ec2-d9ba-4f6a-af2a-bc6b601e77ca\">\n",
              "    <div class=\"colab-df-container\">\n",
              "      <div>\n",
              "<style scoped>\n",
              "    .dataframe tbody tr th:only-of-type {\n",
              "        vertical-align: middle;\n",
              "    }\n",
              "\n",
              "    .dataframe tbody tr th {\n",
              "        vertical-align: top;\n",
              "    }\n",
              "\n",
              "    .dataframe thead th {\n",
              "        text-align: right;\n",
              "    }\n",
              "</style>\n",
              "<table border=\"1\" class=\"dataframe\">\n",
              "  <thead>\n",
              "    <tr style=\"text-align: right;\">\n",
              "      <th></th>\n",
              "      <th>Time</th>\n",
              "      <th>V1</th>\n",
              "      <th>V2</th>\n",
              "      <th>V3</th>\n",
              "      <th>V4</th>\n",
              "      <th>V5</th>\n",
              "      <th>V6</th>\n",
              "      <th>V7</th>\n",
              "      <th>V8</th>\n",
              "      <th>V9</th>\n",
              "      <th>...</th>\n",
              "      <th>V21</th>\n",
              "      <th>V22</th>\n",
              "      <th>V23</th>\n",
              "      <th>V24</th>\n",
              "      <th>V25</th>\n",
              "      <th>V26</th>\n",
              "      <th>V27</th>\n",
              "      <th>V28</th>\n",
              "      <th>Amount</th>\n",
              "      <th>Class</th>\n",
              "    </tr>\n",
              "  </thead>\n",
              "  <tbody>\n",
              "    <tr>\n",
              "      <th>0</th>\n",
              "      <td>0.0</td>\n",
              "      <td>-1.359807</td>\n",
              "      <td>-0.072781</td>\n",
              "      <td>2.536347</td>\n",
              "      <td>1.378155</td>\n",
              "      <td>-0.338321</td>\n",
              "      <td>0.462388</td>\n",
              "      <td>0.239599</td>\n",
              "      <td>0.098698</td>\n",
              "      <td>0.363787</td>\n",
              "      <td>...</td>\n",
              "      <td>-0.018307</td>\n",
              "      <td>0.277838</td>\n",
              "      <td>-0.110474</td>\n",
              "      <td>0.066928</td>\n",
              "      <td>0.128539</td>\n",
              "      <td>-0.189115</td>\n",
              "      <td>0.133558</td>\n",
              "      <td>-0.021053</td>\n",
              "      <td>149.62</td>\n",
              "      <td>0</td>\n",
              "    </tr>\n",
              "    <tr>\n",
              "      <th>1</th>\n",
              "      <td>0.0</td>\n",
              "      <td>1.191857</td>\n",
              "      <td>0.266151</td>\n",
              "      <td>0.166480</td>\n",
              "      <td>0.448154</td>\n",
              "      <td>0.060018</td>\n",
              "      <td>-0.082361</td>\n",
              "      <td>-0.078803</td>\n",
              "      <td>0.085102</td>\n",
              "      <td>-0.255425</td>\n",
              "      <td>...</td>\n",
              "      <td>-0.225775</td>\n",
              "      <td>-0.638672</td>\n",
              "      <td>0.101288</td>\n",
              "      <td>-0.339846</td>\n",
              "      <td>0.167170</td>\n",
              "      <td>0.125895</td>\n",
              "      <td>-0.008983</td>\n",
              "      <td>0.014724</td>\n",
              "      <td>2.69</td>\n",
              "      <td>0</td>\n",
              "    </tr>\n",
              "    <tr>\n",
              "      <th>2</th>\n",
              "      <td>1.0</td>\n",
              "      <td>-1.358354</td>\n",
              "      <td>-1.340163</td>\n",
              "      <td>1.773209</td>\n",
              "      <td>0.379780</td>\n",
              "      <td>-0.503198</td>\n",
              "      <td>1.800499</td>\n",
              "      <td>0.791461</td>\n",
              "      <td>0.247676</td>\n",
              "      <td>-1.514654</td>\n",
              "      <td>...</td>\n",
              "      <td>0.247998</td>\n",
              "      <td>0.771679</td>\n",
              "      <td>0.909412</td>\n",
              "      <td>-0.689281</td>\n",
              "      <td>-0.327642</td>\n",
              "      <td>-0.139097</td>\n",
              "      <td>-0.055353</td>\n",
              "      <td>-0.059752</td>\n",
              "      <td>378.66</td>\n",
              "      <td>0</td>\n",
              "    </tr>\n",
              "    <tr>\n",
              "      <th>3</th>\n",
              "      <td>1.0</td>\n",
              "      <td>-0.966272</td>\n",
              "      <td>-0.185226</td>\n",
              "      <td>1.792993</td>\n",
              "      <td>-0.863291</td>\n",
              "      <td>-0.010309</td>\n",
              "      <td>1.247203</td>\n",
              "      <td>0.237609</td>\n",
              "      <td>0.377436</td>\n",
              "      <td>-1.387024</td>\n",
              "      <td>...</td>\n",
              "      <td>-0.108300</td>\n",
              "      <td>0.005274</td>\n",
              "      <td>-0.190321</td>\n",
              "      <td>-1.175575</td>\n",
              "      <td>0.647376</td>\n",
              "      <td>-0.221929</td>\n",
              "      <td>0.062723</td>\n",
              "      <td>0.061458</td>\n",
              "      <td>123.50</td>\n",
              "      <td>0</td>\n",
              "    </tr>\n",
              "    <tr>\n",
              "      <th>4</th>\n",
              "      <td>2.0</td>\n",
              "      <td>-1.158233</td>\n",
              "      <td>0.877737</td>\n",
              "      <td>1.548718</td>\n",
              "      <td>0.403034</td>\n",
              "      <td>-0.407193</td>\n",
              "      <td>0.095921</td>\n",
              "      <td>0.592941</td>\n",
              "      <td>-0.270533</td>\n",
              "      <td>0.817739</td>\n",
              "      <td>...</td>\n",
              "      <td>-0.009431</td>\n",
              "      <td>0.798278</td>\n",
              "      <td>-0.137458</td>\n",
              "      <td>0.141267</td>\n",
              "      <td>-0.206010</td>\n",
              "      <td>0.502292</td>\n",
              "      <td>0.219422</td>\n",
              "      <td>0.215153</td>\n",
              "      <td>69.99</td>\n",
              "      <td>0</td>\n",
              "    </tr>\n",
              "  </tbody>\n",
              "</table>\n",
              "<p>5 rows × 31 columns</p>\n",
              "</div>\n",
              "      <button class=\"colab-df-convert\" onclick=\"convertToInteractive('df-356c2ec2-d9ba-4f6a-af2a-bc6b601e77ca')\"\n",
              "              title=\"Convert this dataframe to an interactive table.\"\n",
              "              style=\"display:none;\">\n",
              "        \n",
              "  <svg xmlns=\"http://www.w3.org/2000/svg\" height=\"24px\"viewBox=\"0 0 24 24\"\n",
              "       width=\"24px\">\n",
              "    <path d=\"M0 0h24v24H0V0z\" fill=\"none\"/>\n",
              "    <path d=\"M18.56 5.44l.94 2.06.94-2.06 2.06-.94-2.06-.94-.94-2.06-.94 2.06-2.06.94zm-11 1L8.5 8.5l.94-2.06 2.06-.94-2.06-.94L8.5 2.5l-.94 2.06-2.06.94zm10 10l.94 2.06.94-2.06 2.06-.94-2.06-.94-.94-2.06-.94 2.06-2.06.94z\"/><path d=\"M17.41 7.96l-1.37-1.37c-.4-.4-.92-.59-1.43-.59-.52 0-1.04.2-1.43.59L10.3 9.45l-7.72 7.72c-.78.78-.78 2.05 0 2.83L4 21.41c.39.39.9.59 1.41.59.51 0 1.02-.2 1.41-.59l7.78-7.78 2.81-2.81c.8-.78.8-2.07 0-2.86zM5.41 20L4 18.59l7.72-7.72 1.47 1.35L5.41 20z\"/>\n",
              "  </svg>\n",
              "      </button>\n",
              "      \n",
              "  <style>\n",
              "    .colab-df-container {\n",
              "      display:flex;\n",
              "      flex-wrap:wrap;\n",
              "      gap: 12px;\n",
              "    }\n",
              "\n",
              "    .colab-df-convert {\n",
              "      background-color: #E8F0FE;\n",
              "      border: none;\n",
              "      border-radius: 50%;\n",
              "      cursor: pointer;\n",
              "      display: none;\n",
              "      fill: #1967D2;\n",
              "      height: 32px;\n",
              "      padding: 0 0 0 0;\n",
              "      width: 32px;\n",
              "    }\n",
              "\n",
              "    .colab-df-convert:hover {\n",
              "      background-color: #E2EBFA;\n",
              "      box-shadow: 0px 1px 2px rgba(60, 64, 67, 0.3), 0px 1px 3px 1px rgba(60, 64, 67, 0.15);\n",
              "      fill: #174EA6;\n",
              "    }\n",
              "\n",
              "    [theme=dark] .colab-df-convert {\n",
              "      background-color: #3B4455;\n",
              "      fill: #D2E3FC;\n",
              "    }\n",
              "\n",
              "    [theme=dark] .colab-df-convert:hover {\n",
              "      background-color: #434B5C;\n",
              "      box-shadow: 0px 1px 3px 1px rgba(0, 0, 0, 0.15);\n",
              "      filter: drop-shadow(0px 1px 2px rgba(0, 0, 0, 0.3));\n",
              "      fill: #FFFFFF;\n",
              "    }\n",
              "  </style>\n",
              "\n",
              "      <script>\n",
              "        const buttonEl =\n",
              "          document.querySelector('#df-356c2ec2-d9ba-4f6a-af2a-bc6b601e77ca button.colab-df-convert');\n",
              "        buttonEl.style.display =\n",
              "          google.colab.kernel.accessAllowed ? 'block' : 'none';\n",
              "\n",
              "        async function convertToInteractive(key) {\n",
              "          const element = document.querySelector('#df-356c2ec2-d9ba-4f6a-af2a-bc6b601e77ca');\n",
              "          const dataTable =\n",
              "            await google.colab.kernel.invokeFunction('convertToInteractive',\n",
              "                                                     [key], {});\n",
              "          if (!dataTable) return;\n",
              "\n",
              "          const docLinkHtml = 'Like what you see? Visit the ' +\n",
              "            '<a target=\"_blank\" href=https://colab.research.google.com/notebooks/data_table.ipynb>data table notebook</a>'\n",
              "            + ' to learn more about interactive tables.';\n",
              "          element.innerHTML = '';\n",
              "          dataTable['output_type'] = 'display_data';\n",
              "          await google.colab.output.renderOutput(dataTable, element);\n",
              "          const docLink = document.createElement('div');\n",
              "          docLink.innerHTML = docLinkHtml;\n",
              "          element.appendChild(docLink);\n",
              "        }\n",
              "      </script>\n",
              "    </div>\n",
              "  </div>\n",
              "  "
            ],
            "text/plain": [
              "   Time        V1        V2        V3        V4        V5        V6        V7  \\\n",
              "0   0.0 -1.359807 -0.072781  2.536347  1.378155 -0.338321  0.462388  0.239599   \n",
              "1   0.0  1.191857  0.266151  0.166480  0.448154  0.060018 -0.082361 -0.078803   \n",
              "2   1.0 -1.358354 -1.340163  1.773209  0.379780 -0.503198  1.800499  0.791461   \n",
              "3   1.0 -0.966272 -0.185226  1.792993 -0.863291 -0.010309  1.247203  0.237609   \n",
              "4   2.0 -1.158233  0.877737  1.548718  0.403034 -0.407193  0.095921  0.592941   \n",
              "\n",
              "         V8        V9  ...       V21       V22       V23       V24       V25  \\\n",
              "0  0.098698  0.363787  ... -0.018307  0.277838 -0.110474  0.066928  0.128539   \n",
              "1  0.085102 -0.255425  ... -0.225775 -0.638672  0.101288 -0.339846  0.167170   \n",
              "2  0.247676 -1.514654  ...  0.247998  0.771679  0.909412 -0.689281 -0.327642   \n",
              "3  0.377436 -1.387024  ... -0.108300  0.005274 -0.190321 -1.175575  0.647376   \n",
              "4 -0.270533  0.817739  ... -0.009431  0.798278 -0.137458  0.141267 -0.206010   \n",
              "\n",
              "        V26       V27       V28  Amount  Class  \n",
              "0 -0.189115  0.133558 -0.021053  149.62      0  \n",
              "1  0.125895 -0.008983  0.014724    2.69      0  \n",
              "2 -0.139097 -0.055353 -0.059752  378.66      0  \n",
              "3 -0.221929  0.062723  0.061458  123.50      0  \n",
              "4  0.502292  0.219422  0.215153   69.99      0  \n",
              "\n",
              "[5 rows x 31 columns]"
            ]
          },
          "execution_count": 4,
          "metadata": {},
          "output_type": "execute_result"
        }
      ],
      "source": [
        "#to load dataset\n",
        "df=pd.read_csv(\"/content/sample_data/creditcard (1).csv\")\n",
        "\n",
        "#to show first 5 records\n",
        "df.head()"
      ]
    },
    {
      "cell_type": "code",
      "execution_count": null,
      "metadata": {
        "colab": {
          "base_uri": "https://localhost:8080/"
        },
        "id": "IHpEJrpd3eJY",
        "outputId": "1504d2f3-a115-4411-d522-0022bafdf526"
      },
      "outputs": [
        {
          "data": {
            "text/plain": [
              "(284807, 31)"
            ]
          },
          "execution_count": 5,
          "metadata": {},
          "output_type": "execute_result"
        }
      ],
      "source": [
        "#to show shape of dataset means how many column and rows in dataset\n",
        "df.shape"
      ]
    },
    {
      "cell_type": "code",
      "execution_count": null,
      "metadata": {
        "colab": {
          "base_uri": "https://localhost:8080/"
        },
        "id": "i7vHrBs63-1Q",
        "outputId": "77ec1c86-fd96-449b-fd42-b2d2e738fdde"
      },
      "outputs": [
        {
          "data": {
            "text/plain": [
              "Time      0\n",
              "V1        0\n",
              "V2        0\n",
              "V3        0\n",
              "V4        0\n",
              "V5        0\n",
              "V6        0\n",
              "V7        0\n",
              "V8        0\n",
              "V9        0\n",
              "V10       0\n",
              "V11       0\n",
              "V12       0\n",
              "V13       0\n",
              "V14       0\n",
              "V15       0\n",
              "V16       0\n",
              "V17       0\n",
              "V18       0\n",
              "V19       0\n",
              "V20       0\n",
              "V21       0\n",
              "V22       0\n",
              "V23       0\n",
              "V24       0\n",
              "V25       0\n",
              "V26       0\n",
              "V27       0\n",
              "V28       0\n",
              "Amount    0\n",
              "Class     0\n",
              "dtype: int64"
            ]
          },
          "execution_count": 6,
          "metadata": {},
          "output_type": "execute_result"
        }
      ],
      "source": [
        "#to check null values\n",
        "df.isnull().sum()"
      ]
    },
    {
      "cell_type": "code",
      "execution_count": null,
      "metadata": {
        "colab": {
          "base_uri": "https://localhost:8080/"
        },
        "id": "F7UacJWs4IMX",
        "outputId": "77ff955f-23e5-4f3d-aafd-d1f4dfea0515"
      },
      "outputs": [
        {
          "data": {
            "text/plain": [
              "Time      float64\n",
              "V1        float64\n",
              "V2        float64\n",
              "V3        float64\n",
              "V4        float64\n",
              "V5        float64\n",
              "V6        float64\n",
              "V7        float64\n",
              "V8        float64\n",
              "V9        float64\n",
              "V10       float64\n",
              "V11       float64\n",
              "V12       float64\n",
              "V13       float64\n",
              "V14       float64\n",
              "V15       float64\n",
              "V16       float64\n",
              "V17       float64\n",
              "V18       float64\n",
              "V19       float64\n",
              "V20       float64\n",
              "V21       float64\n",
              "V22       float64\n",
              "V23       float64\n",
              "V24       float64\n",
              "V25       float64\n",
              "V26       float64\n",
              "V27       float64\n",
              "V28       float64\n",
              "Amount    float64\n",
              "Class       int64\n",
              "dtype: object"
            ]
          },
          "execution_count": 7,
          "metadata": {},
          "output_type": "execute_result"
        }
      ],
      "source": [
        "#to check datatypes\n",
        "df.dtypes"
      ]
    },
    {
      "cell_type": "code",
      "execution_count": null,
      "metadata": {
        "colab": {
          "base_uri": "https://localhost:8080/",
          "height": 279
        },
        "id": "C5AIxBS44OhN",
        "outputId": "844cd8ab-8da2-435f-ee9c-20d14e276e2e"
      },
      "outputs": [
        {
          "data": {
            "image/png": "[encoded data removed]",
            "text/plain": [
              "<Figure size 432x288 with 1 Axes>"
            ]
          },
          "metadata": {},
          "output_type": "display_data"
        }
      ],
      "source": [
        "#to check in class how many categories in class column\n",
        "sns.countplot(data=df,x='Class')\n",
        "f=df['Class'].value_counts()\n",
        "plt.yticks(f)\n",
        "plt.show()"
      ]
    },
    {
      "cell_type": "code",
      "execution_count": null,
      "metadata": {
        "id": "_Yfqix7PCNSX"
      },
      "outputs": [],
      "source": [
        "#select input and output\n",
        "X=df.drop(\"Class\",axis=1)   #input variable\n",
        "Y=df[\"Class\"]        #output variable"
      ]
    },
    {
      "cell_type": "code",
      "execution_count": null,
      "metadata": {
        "id": "mdp4A6WDCngV"
      },
      "outputs": [],
      "source": [
        "#split data into train test split\n",
        "from sklearn.model_selection import train_test_split\n",
        "X_train,X_test,Y_train,Y_test=train_test_split(X,Y,test_size=0.3,random_state=1)"
      ]
    },
    {
      "cell_type": "code",
      "execution_count": null,
      "metadata": {
        "id": "jDIm3W0sDLIl"
      },
      "outputs": [],
      "source": [
        "#apply scaling on input data means 70%traning and testing data\n",
        "from sklearn.preprocessing import StandardScaler\n",
        "\n",
        "#create object of standardscaler\n",
        "ss=StandardScaler()\n",
        "X_train=ss.fit_transform(X_train)    #on training we apply fit_transform\n",
        "X_test=ss.transform(X_test)          #on testing we apply only transform because our testing data not fitted"
      ]
    },
    {
      "cell_type": "code",
      "execution_count": null,
      "metadata": {
        "colab": {
          "base_uri": "https://localhost:8080/"
        },
        "id": "Y3LhnJP2D8Xa",
        "outputId": "4524aa24-b6b8-4439-8bf8-3b54b05c11a8"
      },
      "outputs": [
        {
          "data": {
            "text/plain": [
              "0    284315\n",
              "1       492\n",
              "Name: Class, dtype: int64"
            ]
          },
          "execution_count": 12,
          "metadata": {},
          "output_type": "execute_result"
        }
      ],
      "source": [
        "#check the model is balanced or not\n",
        "df['Class'].value_counts()   #here our data is unbalance/imbalaced"
      ]
    },
    {
      "cell_type": "code",
      "execution_count": null,
      "metadata": {
        "colab": {
          "base_uri": "https://localhost:8080/",
          "height": 35
        },
        "id": "gb39a5hnEIjC",
        "outputId": "ade788c5-6a46-498a-f9f3-c30e700d6eee"
      },
      "outputs": [
        {
          "data": {
            "application/vnd.google.colaboratory.intrinsic+json": {
              "type": "string"
            },
            "text/plain": [
              "' There are 2 types of Sampling Technique : -\\n1. Random Over Sampling TEchnique  2.Random Under Sampling TEchnique'"
            ]
          },
          "execution_count": 13,
          "metadata": {},
          "output_type": "execute_result"
        }
      ],
      "source": [
        "#if data is imbalance then use sampling Technique\n",
        "#We handle Imbalance data ,We take some Samling Technique.\n",
        "''' There are 2 types of Sampling Technique : -\n",
        "1. Random Over Sampling TEchnique  2.Random Under Sampling TEchnique'''"
      ]
    },
    {
      "cell_type": "code",
      "execution_count": null,
      "metadata": {
        "id": "qaThhAV7EaZJ"
      },
      "outputs": [],
      "source": [
        "#If you have basically reducing the majority class means \n",
        "#remove record randomly from majority class that is known as \n",
        "#Random Undersampling ,\n",
        "#and if you are increasing the minority class means create a duplicate\n",
        "#row randomly that is known as Random over sampling"
      ]
    },
    {
      "cell_type": "code",
      "execution_count": null,
      "metadata": {
        "colab": {
          "base_uri": "https://localhost:8080/"
        },
        "id": "zLYJH9qiEdTa",
        "outputId": "ce99775b-bedf-424f-d6b7-32e5d89abce5"
      },
      "outputs": [
        {
          "name": "stdout",
          "output_type": "stream",
          "text": [
            "Requirement already satisfied: imblearn in /usr/local/lib/python3.7/dist-packages (0.0)\n",
            "Requirement already satisfied: imbalanced-learn in /usr/local/lib/python3.7/dist-packages (from imblearn) (0.8.1)\n",
            "Requirement already satisfied: scipy>=0.19.1 in /usr/local/lib/python3.7/dist-packages (from imbalanced-learn->imblearn) (1.4.1)\n",
            "Requirement already satisfied: joblib>=0.11 in /usr/local/lib/python3.7/dist-packages (from imbalanced-learn->imblearn) (1.1.0)\n",
            "Requirement already satisfied: numpy>=1.13.3 in /usr/local/lib/python3.7/dist-packages (from imbalanced-learn->imblearn) (1.21.5)\n",
            "Requirement already satisfied: scikit-learn>=0.24 in /usr/local/lib/python3.7/dist-packages (from imbalanced-learn->imblearn) (1.0.2)\n",
            "Requirement already satisfied: threadpoolctl>=2.0.0 in /usr/local/lib/python3.7/dist-packages (from scikit-learn>=0.24->imbalanced-learn->imblearn) (3.1.0)\n"
          ]
        }
      ],
      "source": [
        "#install package imblearn only one time\n",
        "!pip install imblearn"
      ]
    },
    {
      "cell_type": "code",
      "execution_count": null,
      "metadata": {
        "id": "a3_lzZa7Ehe5"
      },
      "outputs": [],
      "source": [
        "#use randomoversampler \n",
        "from imblearn.over_sampling import RandomOverSampler"
      ]
    },
    {
      "cell_type": "code",
      "execution_count": null,
      "metadata": {
        "id": "u4V7ITR5E5U4"
      },
      "outputs": [],
      "source": [
        "#create object of randomoversampler\n",
        "ros=RandomOverSampler()"
      ]
    },
    {
      "cell_type": "code",
      "execution_count": null,
      "metadata": {
        "id": "wRVzdJCUE_jo"
      },
      "outputs": [],
      "source": [
        "#apply randomoversampler on 70% training data only\n",
        "X_train_ros,Y_train_ros=ros.fit_resample(X_train,Y_train)\n",
        "\n",
        "#fit_resample() inbuilt method of randomoversampler"
      ]
    },
    {
      "cell_type": "code",
      "execution_count": null,
      "metadata": {
        "colab": {
          "base_uri": "https://localhost:8080/"
        },
        "id": "wFqz7uQqFUXX",
        "outputId": "abb025b9-23e2-4459-98db-1ee20d9b2879"
      },
      "outputs": [
        {
          "data": {
            "text/plain": [
              "0    199007\n",
              "1       357\n",
              "Name: Class, dtype: int64"
            ]
          },
          "execution_count": 19,
          "metadata": {},
          "output_type": "execute_result"
        }
      ],
      "source": [
        "#check before balancing dataset means before applying randomoversamper on training data\n",
        "pd.Series(Y_train).value_counts()"
      ]
    },
    {
      "cell_type": "code",
      "execution_count": null,
      "metadata": {
        "colab": {
          "base_uri": "https://localhost:8080/"
        },
        "id": "rEGZsa1uGS8s",
        "outputId": "b31af2f1-bd1a-45af-e49b-e66d411b9d1a"
      },
      "outputs": [
        {
          "data": {
            "text/plain": [
              "0    199007\n",
              "1    199007\n",
              "Name: Class, dtype: int64"
            ]
          },
          "execution_count": 20,
          "metadata": {},
          "output_type": "execute_result"
        }
      ],
      "source": [
        "#check after balancing data means after applying randomoversampler on training data\n",
        "pd.Series(Y_train_ros).value_counts()"
      ]
    },
    {
      "cell_type": "code",
      "execution_count": null,
      "metadata": {
        "id": "b9kOWq1sGiCc"
      },
      "outputs": [],
      "source": [
        "#applying randomoversampler on 30% testing data \n",
        "X_test_ros,Y_test_ros=ros.fit_resample(X_test,Y_test)"
      ]
    },
    {
      "cell_type": "code",
      "execution_count": null,
      "metadata": {
        "colab": {
          "base_uri": "https://localhost:8080/"
        },
        "id": "WiL1YENuHAGD",
        "outputId": "f7446431-827e-4ffe-ce23-b66e47b10fca"
      },
      "outputs": [
        {
          "data": {
            "text/plain": [
              "0    85308\n",
              "1      135\n",
              "Name: Class, dtype: int64"
            ]
          },
          "execution_count": 22,
          "metadata": {},
          "output_type": "execute_result"
        }
      ],
      "source": [
        "#check before balancing testing data means before applying randomoversamper on 30% tetsing data\n",
        "pd.Series(Y_test).value_counts()"
      ]
    },
    {
      "cell_type": "code",
      "execution_count": null,
      "metadata": {
        "colab": {
          "base_uri": "https://localhost:8080/"
        },
        "id": "2Y4GmFkkHW0L",
        "outputId": "ca620734-d5dc-46be-e475-666adc397a72"
      },
      "outputs": [
        {
          "data": {
            "text/plain": [
              "0    85308\n",
              "1    85308\n",
              "Name: Class, dtype: int64"
            ]
          },
          "execution_count": 23,
          "metadata": {},
          "output_type": "execute_result"
        }
      ],
      "source": [
        "#check after balancing testing data means after applying randomoversampler on testing data\n",
        "pd.Series(Y_test_ros).value_counts()"
      ]
    },
    {
      "cell_type": "code",
      "execution_count": null,
      "metadata": {
        "id": "sc-uALgtHySy"
      },
      "outputs": [],
      "source": [
        "#create def function for the model\n",
        "def create_model(model):\n",
        "  model.fit(X_train_ros,Y_train_ros)   #train the model\n",
        "  Y_predict=model.predict(X_test_ros)  #test the model\n",
        "  print(classification_report(Y_test_ros,Y_predict))\n",
        "  print(\"confusion matrix:\")\n",
        "\n",
        "  #confusion matrix\n",
        "  print(confusion_matrix(Y_test_ros,Y_predict))\n",
        "  return model"
      ]
    },
    {
      "cell_type": "code",
      "execution_count": null,
      "metadata": {
        "id": "PR4UOWzlJCP3"
      },
      "outputs": [],
      "source": [
        "#import classification report and confusion matrix\n",
        "from sklearn.metrics import classification_report\n",
        "from sklearn.metrics import confusion_matrix"
      ]
    },
    {
      "cell_type": "code",
      "execution_count": null,
      "metadata": {
        "id": "G4Yw8gC-JTNv"
      },
      "outputs": [],
      "source": [
        "#Baseline model:import logistic regression model\n",
        "from sklearn.linear_model import LogisticRegression\n",
        "\n",
        "#create object of LogisticRegression\n",
        "lr=LogisticRegression()"
      ]
    },
    {
      "cell_type": "code",
      "execution_count": null,
      "metadata": {
        "colab": {
          "base_uri": "https://localhost:8080/"
        },
        "id": "1ZpWY_60Jine",
        "outputId": "fb6418d6-e993-4394-8e82-92e49ab17928"
      },
      "outputs": [
        {
          "name": "stdout",
          "output_type": "stream",
          "text": [
            "              precision    recall  f1-score   support\n",
            "\n",
            "           0       0.91      0.98      0.94     85308\n",
            "           1       0.98      0.90      0.94     85308\n",
            "\n",
            "    accuracy                           0.94    170616\n",
            "   macro avg       0.94      0.94      0.94    170616\n",
            "weighted avg       0.94      0.94      0.94    170616\n",
            "\n",
            "confusion matrix:\n",
            "[[83734  1574]\n",
            " [ 8736 76572]]\n"
          ]
        }
      ],
      "source": [
        "#call the function \n",
        "lr=create_model(lr)"
      ]
    },
    {
      "cell_type": "code",
      "execution_count": null,
      "metadata": {
        "id": "F2Qw6SIzKER-"
      },
      "outputs": [],
      "source": [
        "#create a decisiontreeclassifier\n",
        "from sklearn.tree import DecisionTreeClassifier\n",
        "\n",
        "#create object of decisiontreeclasifier\n",
        "dt=DecisionTreeClassifier()\n"
      ]
    },
    {
      "cell_type": "code",
      "execution_count": null,
      "metadata": {
        "colab": {
          "base_uri": "https://localhost:8080/"
        },
        "id": "l96ojlyqKhLb",
        "outputId": "1b7e63c4-cb04-45c8-ace0-60b04072c718"
      },
      "outputs": [
        {
          "name": "stdout",
          "output_type": "stream",
          "text": [
            "              precision    recall  f1-score   support\n",
            "\n",
            "           0       0.74      1.00      0.85     85308\n",
            "           1       1.00      0.66      0.79     85308\n",
            "\n",
            "    accuracy                           0.83    170616\n",
            "   macro avg       0.87      0.83      0.82    170616\n",
            "weighted avg       0.87      0.83      0.82    170616\n",
            "\n",
            "confusion matrix:\n",
            "[[85278    30]\n",
            " [29390 55918]]\n"
          ]
        }
      ],
      "source": [
        "#call the function\n",
        "dt=create_model(dt)"
      ]
    },
    {
      "cell_type": "code",
      "execution_count": null,
      "metadata": {
        "colab": {
          "base_uri": "https://localhost:8080/"
        },
        "id": "4NL7AAf_K0Iz",
        "outputId": "d2b4f049-970f-4f42-b08e-18f5d17cbd1a"
      },
      "outputs": [
        {
          "name": "stdout",
          "output_type": "stream",
          "text": [
            "[1.22834093e-02 4.89390482e-03 1.00453213e-05 1.07129913e-03\n",
            " 5.53328841e-02 6.97064949e-03 2.09769721e-03 1.20753555e-02\n",
            " 9.85188529e-03 4.26096097e-03 1.22052898e-02 1.53639929e-03\n",
            " 2.44510823e-02 1.87681392e-02 7.46912564e-01 3.14884824e-04\n",
            " 3.58622537e-04 5.85499665e-03 1.66216555e-03 1.13415857e-02\n",
            " 2.17806789e-02 1.75078471e-03 4.35851229e-03 2.06298764e-03\n",
            " 2.78076552e-04 2.69708719e-03 8.89708293e-03 5.34418424e-03\n",
            " 5.35574022e-03 1.52210445e-02]\n"
          ]
        }
      ],
      "source": [
        "#information gain of the features\n",
        "IG=dt.feature_importances_\n",
        "print(IG)"
      ]
    },
    {
      "cell_type": "code",
      "execution_count": null,
      "metadata": {
        "id": "S4WygET5M_u-"
      },
      "outputs": [],
      "source": [
        "column=X.columns"
      ]
    },
    {
      "cell_type": "code",
      "execution_count": null,
      "metadata": {
        "colab": {
          "base_uri": "https://localhost:8080/",
          "height": 990
        },
        "id": "Lnxk7NYuNLJO",
        "outputId": "cad7f31f-ddaf-4f67-da09-223823b64c80"
      },
      "outputs": [
        {
          "data": {
            "text/html": [
              "\n",
              "  <div id=\"df-7cac0a33-6b95-4cd5-8199-44694db44397\">\n",
              "    <div class=\"colab-df-container\">\n",
              "      <div>\n",
              "<style scoped>\n",
              "    .dataframe tbody tr th:only-of-type {\n",
              "        vertical-align: middle;\n",
              "    }\n",
              "\n",
              "    .dataframe tbody tr th {\n",
              "        vertical-align: top;\n",
              "    }\n",
              "\n",
              "    .dataframe thead th {\n",
              "        text-align: right;\n",
              "    }\n",
              "</style>\n",
              "<table border=\"1\" class=\"dataframe\">\n",
              "  <thead>\n",
              "    <tr style=\"text-align: right;\">\n",
              "      <th></th>\n",
              "      <th>Input</th>\n",
              "      <th>Information_Gain</th>\n",
              "    </tr>\n",
              "  </thead>\n",
              "  <tbody>\n",
              "    <tr>\n",
              "      <th>14</th>\n",
              "      <td>V14</td>\n",
              "      <td>0.746913</td>\n",
              "    </tr>\n",
              "    <tr>\n",
              "      <th>4</th>\n",
              "      <td>V4</td>\n",
              "      <td>0.055333</td>\n",
              "    </tr>\n",
              "    <tr>\n",
              "      <th>12</th>\n",
              "      <td>V12</td>\n",
              "      <td>0.024451</td>\n",
              "    </tr>\n",
              "    <tr>\n",
              "      <th>20</th>\n",
              "      <td>V20</td>\n",
              "      <td>0.021781</td>\n",
              "    </tr>\n",
              "    <tr>\n",
              "      <th>13</th>\n",
              "      <td>V13</td>\n",
              "      <td>0.018768</td>\n",
              "    </tr>\n",
              "    <tr>\n",
              "      <th>29</th>\n",
              "      <td>Amount</td>\n",
              "      <td>0.015221</td>\n",
              "    </tr>\n",
              "    <tr>\n",
              "      <th>0</th>\n",
              "      <td>Time</td>\n",
              "      <td>0.012283</td>\n",
              "    </tr>\n",
              "    <tr>\n",
              "      <th>10</th>\n",
              "      <td>V10</td>\n",
              "      <td>0.012205</td>\n",
              "    </tr>\n",
              "    <tr>\n",
              "      <th>7</th>\n",
              "      <td>V7</td>\n",
              "      <td>0.012075</td>\n",
              "    </tr>\n",
              "    <tr>\n",
              "      <th>19</th>\n",
              "      <td>V19</td>\n",
              "      <td>0.011342</td>\n",
              "    </tr>\n",
              "    <tr>\n",
              "      <th>8</th>\n",
              "      <td>V8</td>\n",
              "      <td>0.009852</td>\n",
              "    </tr>\n",
              "    <tr>\n",
              "      <th>26</th>\n",
              "      <td>V26</td>\n",
              "      <td>0.008897</td>\n",
              "    </tr>\n",
              "    <tr>\n",
              "      <th>5</th>\n",
              "      <td>V5</td>\n",
              "      <td>0.006971</td>\n",
              "    </tr>\n",
              "    <tr>\n",
              "      <th>17</th>\n",
              "      <td>V17</td>\n",
              "      <td>0.005855</td>\n",
              "    </tr>\n",
              "    <tr>\n",
              "      <th>28</th>\n",
              "      <td>V28</td>\n",
              "      <td>0.005356</td>\n",
              "    </tr>\n",
              "    <tr>\n",
              "      <th>27</th>\n",
              "      <td>V27</td>\n",
              "      <td>0.005344</td>\n",
              "    </tr>\n",
              "    <tr>\n",
              "      <th>1</th>\n",
              "      <td>V1</td>\n",
              "      <td>0.004894</td>\n",
              "    </tr>\n",
              "    <tr>\n",
              "      <th>22</th>\n",
              "      <td>V22</td>\n",
              "      <td>0.004359</td>\n",
              "    </tr>\n",
              "    <tr>\n",
              "      <th>9</th>\n",
              "      <td>V9</td>\n",
              "      <td>0.004261</td>\n",
              "    </tr>\n",
              "    <tr>\n",
              "      <th>25</th>\n",
              "      <td>V25</td>\n",
              "      <td>0.002697</td>\n",
              "    </tr>\n",
              "    <tr>\n",
              "      <th>6</th>\n",
              "      <td>V6</td>\n",
              "      <td>0.002098</td>\n",
              "    </tr>\n",
              "    <tr>\n",
              "      <th>23</th>\n",
              "      <td>V23</td>\n",
              "      <td>0.002063</td>\n",
              "    </tr>\n",
              "    <tr>\n",
              "      <th>21</th>\n",
              "      <td>V21</td>\n",
              "      <td>0.001751</td>\n",
              "    </tr>\n",
              "    <tr>\n",
              "      <th>18</th>\n",
              "      <td>V18</td>\n",
              "      <td>0.001662</td>\n",
              "    </tr>\n",
              "    <tr>\n",
              "      <th>11</th>\n",
              "      <td>V11</td>\n",
              "      <td>0.001536</td>\n",
              "    </tr>\n",
              "    <tr>\n",
              "      <th>3</th>\n",
              "      <td>V3</td>\n",
              "      <td>0.001071</td>\n",
              "    </tr>\n",
              "    <tr>\n",
              "      <th>16</th>\n",
              "      <td>V16</td>\n",
              "      <td>0.000359</td>\n",
              "    </tr>\n",
              "    <tr>\n",
              "      <th>15</th>\n",
              "      <td>V15</td>\n",
              "      <td>0.000315</td>\n",
              "    </tr>\n",
              "    <tr>\n",
              "      <th>24</th>\n",
              "      <td>V24</td>\n",
              "      <td>0.000278</td>\n",
              "    </tr>\n",
              "    <tr>\n",
              "      <th>2</th>\n",
              "      <td>V2</td>\n",
              "      <td>0.000010</td>\n",
              "    </tr>\n",
              "  </tbody>\n",
              "</table>\n",
              "</div>\n",
              "      <button class=\"colab-df-convert\" onclick=\"convertToInteractive('df-7cac0a33-6b95-4cd5-8199-44694db44397')\"\n",
              "              title=\"Convert this dataframe to an interactive table.\"\n",
              "              style=\"display:none;\">\n",
              "        \n",
              "  <svg xmlns=\"http://www.w3.org/2000/svg\" height=\"24px\"viewBox=\"0 0 24 24\"\n",
              "       width=\"24px\">\n",
              "    <path d=\"M0 0h24v24H0V0z\" fill=\"none\"/>\n",
              "    <path d=\"M18.56 5.44l.94 2.06.94-2.06 2.06-.94-2.06-.94-.94-2.06-.94 2.06-2.06.94zm-11 1L8.5 8.5l.94-2.06 2.06-.94-2.06-.94L8.5 2.5l-.94 2.06-2.06.94zm10 10l.94 2.06.94-2.06 2.06-.94-2.06-.94-.94-2.06-.94 2.06-2.06.94z\"/><path d=\"M17.41 7.96l-1.37-1.37c-.4-.4-.92-.59-1.43-.59-.52 0-1.04.2-1.43.59L10.3 9.45l-7.72 7.72c-.78.78-.78 2.05 0 2.83L4 21.41c.39.39.9.59 1.41.59.51 0 1.02-.2 1.41-.59l7.78-7.78 2.81-2.81c.8-.78.8-2.07 0-2.86zM5.41 20L4 18.59l7.72-7.72 1.47 1.35L5.41 20z\"/>\n",
              "  </svg>\n",
              "      </button>\n",
              "      \n",
              "  <style>\n",
              "    .colab-df-container {\n",
              "      display:flex;\n",
              "      flex-wrap:wrap;\n",
              "      gap: 12px;\n",
              "    }\n",
              "\n",
              "    .colab-df-convert {\n",
              "      background-color: #E8F0FE;\n",
              "      border: none;\n",
              "      border-radius: 50%;\n",
              "      cursor: pointer;\n",
              "      display: none;\n",
              "      fill: #1967D2;\n",
              "      height: 32px;\n",
              "      padding: 0 0 0 0;\n",
              "      width: 32px;\n",
              "    }\n",
              "\n",
              "    .colab-df-convert:hover {\n",
              "      background-color: #E2EBFA;\n",
              "      box-shadow: 0px 1px 2px rgba(60, 64, 67, 0.3), 0px 1px 3px 1px rgba(60, 64, 67, 0.15);\n",
              "      fill: #174EA6;\n",
              "    }\n",
              "\n",
              "    [theme=dark] .colab-df-convert {\n",
              "      background-color: #3B4455;\n",
              "      fill: #D2E3FC;\n",
              "    }\n",
              "\n",
              "    [theme=dark] .colab-df-convert:hover {\n",
              "      background-color: #434B5C;\n",
              "      box-shadow: 0px 1px 3px 1px rgba(0, 0, 0, 0.15);\n",
              "      filter: drop-shadow(0px 1px 2px rgba(0, 0, 0, 0.3));\n",
              "      fill: #FFFFFF;\n",
              "    }\n",
              "  </style>\n",
              "\n",
              "      <script>\n",
              "        const buttonEl =\n",
              "          document.querySelector('#df-7cac0a33-6b95-4cd5-8199-44694db44397 button.colab-df-convert');\n",
              "        buttonEl.style.display =\n",
              "          google.colab.kernel.accessAllowed ? 'block' : 'none';\n",
              "\n",
              "        async function convertToInteractive(key) {\n",
              "          const element = document.querySelector('#df-7cac0a33-6b95-4cd5-8199-44694db44397');\n",
              "          const dataTable =\n",
              "            await google.colab.kernel.invokeFunction('convertToInteractive',\n",
              "                                                     [key], {});\n",
              "          if (!dataTable) return;\n",
              "\n",
              "          const docLinkHtml = 'Like what you see? Visit the ' +\n",
              "            '<a target=\"_blank\" href=https://colab.research.google.com/notebooks/data_table.ipynb>data table notebook</a>'\n",
              "            + ' to learn more about interactive tables.';\n",
              "          element.innerHTML = '';\n",
              "          dataTable['output_type'] = 'display_data';\n",
              "          await google.colab.output.renderOutput(dataTable, element);\n",
              "          const docLink = document.createElement('div');\n",
              "          docLink.innerHTML = docLinkHtml;\n",
              "          element.appendChild(docLink);\n",
              "        }\n",
              "      </script>\n",
              "    </div>\n",
              "  </div>\n",
              "  "
            ],
            "text/plain": [
              "     Input  Information_Gain\n",
              "14     V14          0.746913\n",
              "4       V4          0.055333\n",
              "12     V12          0.024451\n",
              "20     V20          0.021781\n",
              "13     V13          0.018768\n",
              "29  Amount          0.015221\n",
              "0     Time          0.012283\n",
              "10     V10          0.012205\n",
              "7       V7          0.012075\n",
              "19     V19          0.011342\n",
              "8       V8          0.009852\n",
              "26     V26          0.008897\n",
              "5       V5          0.006971\n",
              "17     V17          0.005855\n",
              "28     V28          0.005356\n",
              "27     V27          0.005344\n",
              "1       V1          0.004894\n",
              "22     V22          0.004359\n",
              "9       V9          0.004261\n",
              "25     V25          0.002697\n",
              "6       V6          0.002098\n",
              "23     V23          0.002063\n",
              "21     V21          0.001751\n",
              "18     V18          0.001662\n",
              "11     V11          0.001536\n",
              "3       V3          0.001071\n",
              "16     V16          0.000359\n",
              "15     V15          0.000315\n",
              "24     V24          0.000278\n",
              "2       V2          0.000010"
            ]
          },
          "execution_count": 32,
          "metadata": {},
          "output_type": "execute_result"
        }
      ],
      "source": [
        "#create A dataframe with sorting to disply information gain\n",
        "dic={'Input':column,'Information_Gain':IG}\n",
        "df1=pd.DataFrame(dic)\n",
        "df1.sort_values('Information_Gain',ascending=False)"
      ]
    },
    {
      "cell_type": "code",
      "execution_count": null,
      "metadata": {
        "colab": {
          "base_uri": "https://localhost:8080/",
          "height": 34
        },
        "id": "KehexX7HNo9V",
        "outputId": "df8cbf4e-a03a-4506-94fd-9dc801c091c9"
      },
      "outputs": [
        {
          "data": {
            "text/plain": [
              "<Figure size 1440x1440 with 0 Axes>"
            ]
          },
          "metadata": {},
          "output_type": "display_data"
        }
      ],
      "source": [
        "#create a decision tree\n",
        "from sklearn import tree\n",
        "features=X.columns\n",
        "fig=plt.figure(figsize=(20,20))\n",
        "#_=tree.plot_tree(dt,feature_names=features,filled=True)\n"
      ]
    },
    {
      "cell_type": "code",
      "execution_count": null,
      "metadata": {
        "id": "AKUVkgIzQDdw"
      },
      "outputs": [],
      "source": [
        "#pruning technique to reduce overfitting from decisiontreeclassifer"
      ]
    },
    {
      "cell_type": "code",
      "execution_count": null,
      "metadata": {
        "id": "1cNlEnOXOenD"
      },
      "outputs": [],
      "source": [
        "#But we got less score 0.66 % its good but not excellent , \n",
        "#region behind less score , overfit means \n",
        "#model is overfit so reduced the overfitting situation : - \n",
        "#then we use pruning technique \n",
        "\n",
        "#How to reduced a overfitting situation \n",
        "#By using the Pruning technique : -\n",
        "#There are 2 types of pruning technique : -\n",
        "#1. max_depth : inbulit parameter\n",
        "#2. min_samples_leaf  : inbuilt parameter\n",
        "#leaf means no child"
      ]
    },
    {
      "cell_type": "code",
      "execution_count": null,
      "metadata": {
        "id": "sCFQILfWP1_w"
      },
      "outputs": [],
      "source": [
        "#Limitation of decisiontreeclassifier :the model is overfit many times\n",
        "#advantage of decisiontreeclassifier:we do not select features manually"
      ]
    },
    {
      "cell_type": "code",
      "execution_count": null,
      "metadata": {
        "id": "8zCw_ZWeQBgv"
      },
      "outputs": [],
      "source": [
        "#1.max_depth\n",
        "#1. max_depth parameter  \n",
        "##create object of DecisionTreeClassifier class\n",
        "dt1=DecisionTreeClassifier(max_depth=6,random_state=1)\n",
        "#Note : max_depth can not more than 8\n",
        "#by default use method : gini index"
      ]
    },
    {
      "cell_type": "code",
      "execution_count": null,
      "metadata": {
        "colab": {
          "base_uri": "https://localhost:8080/"
        },
        "id": "_aXK0SDTQtNV",
        "outputId": "1d8f0c83-ce00-45b1-ac77-804198315693"
      },
      "outputs": [
        {
          "name": "stdout",
          "output_type": "stream",
          "text": [
            "              precision    recall  f1-score   support\n",
            "\n",
            "           0       0.85      0.96      0.90     85308\n",
            "           1       0.95      0.82      0.88     85308\n",
            "\n",
            "    accuracy                           0.89    170616\n",
            "   macro avg       0.90      0.89      0.89    170616\n",
            "weighted avg       0.90      0.89      0.89    170616\n",
            "\n",
            "confusion matrix:\n",
            "[[81821  3487]\n",
            " [14961 70347]]\n"
          ]
        }
      ],
      "source": [
        "#train the model with max_depth parameter\n",
        "dt1=create_model(dt1)"
      ]
    },
    {
      "cell_type": "code",
      "execution_count": null,
      "metadata": {
        "colab": {
          "base_uri": "https://localhost:8080/",
          "height": 1000
        },
        "id": "bFZF_x1yQs9z",
        "outputId": "a996f24a-383f-403e-8db8-85a56e51f702"
      },
      "outputs": [
        {
          "data": {
            "image/png": "[encoded data removed]",
            "text/plain": [
              "<Figure size 1440x1440 with 1 Axes>"
            ]
          },
          "metadata": {},
          "output_type": "display_data"
        }
      ],
      "source": [
        "#again create the tree with max_depth parameter\n",
        "fig=plt.figure(figsize=(20,20))\n",
        "_=tree.plot_tree(dt1,feature_names=features,filled=True)"
      ]
    },
    {
      "cell_type": "code",
      "execution_count": null,
      "metadata": {
        "colab": {
          "base_uri": "https://localhost:8080/"
        },
        "id": "Vgt7YE84Sybq",
        "outputId": "94edb07f-1f5f-4a77-9bf2-d4d1952dffa3"
      },
      "outputs": [
        {
          "name": "stdout",
          "output_type": "stream",
          "text": [
            "[0.00945809 0.00393208 0.         0.         0.05882257 0.0074993\n",
            " 0.         0.00703477 0.         0.         0.00748789 0.00096357\n",
            " 0.02460763 0.01381321 0.80328018 0.         0.         0.\n",
            " 0.         0.00405026 0.02335694 0.         0.00399929 0.00174213\n",
            " 0.         0.         0.00876477 0.         0.00502072 0.01616659]\n"
          ]
        }
      ],
      "source": [
        "#check importanat features with max_depth parameter\n",
        "IG=dt1.feature_importances_\n",
        "print(IG)"
      ]
    },
    {
      "cell_type": "code",
      "execution_count": null,
      "metadata": {
        "id": "vvNx_cpYTLCY"
      },
      "outputs": [],
      "source": [
        "column=X.columns"
      ]
    },
    {
      "cell_type": "code",
      "execution_count": null,
      "metadata": {
        "colab": {
          "base_uri": "https://localhost:8080/",
          "height": 990
        },
        "id": "HRhLANNATNcg",
        "outputId": "1967f344-edad-4df0-a132-f72a2dd45e11"
      },
      "outputs": [
        {
          "data": {
            "text/html": [
              "\n",
              "  <div id=\"df-e68cc236-eed1-4885-a3d4-f2b0d5e3ae55\">\n",
              "    <div class=\"colab-df-container\">\n",
              "      <div>\n",
              "<style scoped>\n",
              "    .dataframe tbody tr th:only-of-type {\n",
              "        vertical-align: middle;\n",
              "    }\n",
              "\n",
              "    .dataframe tbody tr th {\n",
              "        vertical-align: top;\n",
              "    }\n",
              "\n",
              "    .dataframe thead th {\n",
              "        text-align: right;\n",
              "    }\n",
              "</style>\n",
              "<table border=\"1\" class=\"dataframe\">\n",
              "  <thead>\n",
              "    <tr style=\"text-align: right;\">\n",
              "      <th></th>\n",
              "      <th>Input</th>\n",
              "      <th>Information_Gain</th>\n",
              "    </tr>\n",
              "  </thead>\n",
              "  <tbody>\n",
              "    <tr>\n",
              "      <th>14</th>\n",
              "      <td>V14</td>\n",
              "      <td>0.803280</td>\n",
              "    </tr>\n",
              "    <tr>\n",
              "      <th>4</th>\n",
              "      <td>V4</td>\n",
              "      <td>0.058823</td>\n",
              "    </tr>\n",
              "    <tr>\n",
              "      <th>12</th>\n",
              "      <td>V12</td>\n",
              "      <td>0.024608</td>\n",
              "    </tr>\n",
              "    <tr>\n",
              "      <th>20</th>\n",
              "      <td>V20</td>\n",
              "      <td>0.023357</td>\n",
              "    </tr>\n",
              "    <tr>\n",
              "      <th>29</th>\n",
              "      <td>Amount</td>\n",
              "      <td>0.016167</td>\n",
              "    </tr>\n",
              "    <tr>\n",
              "      <th>13</th>\n",
              "      <td>V13</td>\n",
              "      <td>0.013813</td>\n",
              "    </tr>\n",
              "    <tr>\n",
              "      <th>0</th>\n",
              "      <td>Time</td>\n",
              "      <td>0.009458</td>\n",
              "    </tr>\n",
              "    <tr>\n",
              "      <th>26</th>\n",
              "      <td>V26</td>\n",
              "      <td>0.008765</td>\n",
              "    </tr>\n",
              "    <tr>\n",
              "      <th>5</th>\n",
              "      <td>V5</td>\n",
              "      <td>0.007499</td>\n",
              "    </tr>\n",
              "    <tr>\n",
              "      <th>10</th>\n",
              "      <td>V10</td>\n",
              "      <td>0.007488</td>\n",
              "    </tr>\n",
              "    <tr>\n",
              "      <th>7</th>\n",
              "      <td>V7</td>\n",
              "      <td>0.007035</td>\n",
              "    </tr>\n",
              "    <tr>\n",
              "      <th>28</th>\n",
              "      <td>V28</td>\n",
              "      <td>0.005021</td>\n",
              "    </tr>\n",
              "    <tr>\n",
              "      <th>19</th>\n",
              "      <td>V19</td>\n",
              "      <td>0.004050</td>\n",
              "    </tr>\n",
              "    <tr>\n",
              "      <th>22</th>\n",
              "      <td>V22</td>\n",
              "      <td>0.003999</td>\n",
              "    </tr>\n",
              "    <tr>\n",
              "      <th>1</th>\n",
              "      <td>V1</td>\n",
              "      <td>0.003932</td>\n",
              "    </tr>\n",
              "    <tr>\n",
              "      <th>23</th>\n",
              "      <td>V23</td>\n",
              "      <td>0.001742</td>\n",
              "    </tr>\n",
              "    <tr>\n",
              "      <th>11</th>\n",
              "      <td>V11</td>\n",
              "      <td>0.000964</td>\n",
              "    </tr>\n",
              "    <tr>\n",
              "      <th>21</th>\n",
              "      <td>V21</td>\n",
              "      <td>0.000000</td>\n",
              "    </tr>\n",
              "    <tr>\n",
              "      <th>27</th>\n",
              "      <td>V27</td>\n",
              "      <td>0.000000</td>\n",
              "    </tr>\n",
              "    <tr>\n",
              "      <th>25</th>\n",
              "      <td>V25</td>\n",
              "      <td>0.000000</td>\n",
              "    </tr>\n",
              "    <tr>\n",
              "      <th>24</th>\n",
              "      <td>V24</td>\n",
              "      <td>0.000000</td>\n",
              "    </tr>\n",
              "    <tr>\n",
              "      <th>18</th>\n",
              "      <td>V18</td>\n",
              "      <td>0.000000</td>\n",
              "    </tr>\n",
              "    <tr>\n",
              "      <th>2</th>\n",
              "      <td>V2</td>\n",
              "      <td>0.000000</td>\n",
              "    </tr>\n",
              "    <tr>\n",
              "      <th>8</th>\n",
              "      <td>V8</td>\n",
              "      <td>0.000000</td>\n",
              "    </tr>\n",
              "    <tr>\n",
              "      <th>17</th>\n",
              "      <td>V17</td>\n",
              "      <td>0.000000</td>\n",
              "    </tr>\n",
              "    <tr>\n",
              "      <th>16</th>\n",
              "      <td>V16</td>\n",
              "      <td>0.000000</td>\n",
              "    </tr>\n",
              "    <tr>\n",
              "      <th>3</th>\n",
              "      <td>V3</td>\n",
              "      <td>0.000000</td>\n",
              "    </tr>\n",
              "    <tr>\n",
              "      <th>6</th>\n",
              "      <td>V6</td>\n",
              "      <td>0.000000</td>\n",
              "    </tr>\n",
              "    <tr>\n",
              "      <th>9</th>\n",
              "      <td>V9</td>\n",
              "      <td>0.000000</td>\n",
              "    </tr>\n",
              "    <tr>\n",
              "      <th>15</th>\n",
              "      <td>V15</td>\n",
              "      <td>0.000000</td>\n",
              "    </tr>\n",
              "  </tbody>\n",
              "</table>\n",
              "</div>\n",
              "      <button class=\"colab-df-convert\" onclick=\"convertToInteractive('df-e68cc236-eed1-4885-a3d4-f2b0d5e3ae55')\"\n",
              "              title=\"Convert this dataframe to an interactive table.\"\n",
              "              style=\"display:none;\">\n",
              "        \n",
              "  <svg xmlns=\"http://www.w3.org/2000/svg\" height=\"24px\"viewBox=\"0 0 24 24\"\n",
              "       width=\"24px\">\n",
              "    <path d=\"M0 0h24v24H0V0z\" fill=\"none\"/>\n",
              "    <path d=\"M18.56 5.44l.94 2.06.94-2.06 2.06-.94-2.06-.94-.94-2.06-.94 2.06-2.06.94zm-11 1L8.5 8.5l.94-2.06 2.06-.94-2.06-.94L8.5 2.5l-.94 2.06-2.06.94zm10 10l.94 2.06.94-2.06 2.06-.94-2.06-.94-.94-2.06-.94 2.06-2.06.94z\"/><path d=\"M17.41 7.96l-1.37-1.37c-.4-.4-.92-.59-1.43-.59-.52 0-1.04.2-1.43.59L10.3 9.45l-7.72 7.72c-.78.78-.78 2.05 0 2.83L4 21.41c.39.39.9.59 1.41.59.51 0 1.02-.2 1.41-.59l7.78-7.78 2.81-2.81c.8-.78.8-2.07 0-2.86zM5.41 20L4 18.59l7.72-7.72 1.47 1.35L5.41 20z\"/>\n",
              "  </svg>\n",
              "      </button>\n",
              "      \n",
              "  <style>\n",
              "    .colab-df-container {\n",
              "      display:flex;\n",
              "      flex-wrap:wrap;\n",
              "      gap: 12px;\n",
              "    }\n",
              "\n",
              "    .colab-df-convert {\n",
              "      background-color: #E8F0FE;\n",
              "      border: none;\n",
              "      border-radius: 50%;\n",
              "      cursor: pointer;\n",
              "      display: none;\n",
              "      fill: #1967D2;\n",
              "      height: 32px;\n",
              "      padding: 0 0 0 0;\n",
              "      width: 32px;\n",
              "    }\n",
              "\n",
              "    .colab-df-convert:hover {\n",
              "      background-color: #E2EBFA;\n",
              "      box-shadow: 0px 1px 2px rgba(60, 64, 67, 0.3), 0px 1px 3px 1px rgba(60, 64, 67, 0.15);\n",
              "      fill: #174EA6;\n",
              "    }\n",
              "\n",
              "    [theme=dark] .colab-df-convert {\n",
              "      background-color: #3B4455;\n",
              "      fill: #D2E3FC;\n",
              "    }\n",
              "\n",
              "    [theme=dark] .colab-df-convert:hover {\n",
              "      background-color: #434B5C;\n",
              "      box-shadow: 0px 1px 3px 1px rgba(0, 0, 0, 0.15);\n",
              "      filter: drop-shadow(0px 1px 2px rgba(0, 0, 0, 0.3));\n",
              "      fill: #FFFFFF;\n",
              "    }\n",
              "  </style>\n",
              "\n",
              "      <script>\n",
              "        const buttonEl =\n",
              "          document.querySelector('#df-e68cc236-eed1-4885-a3d4-f2b0d5e3ae55 button.colab-df-convert');\n",
              "        buttonEl.style.display =\n",
              "          google.colab.kernel.accessAllowed ? 'block' : 'none';\n",
              "\n",
              "        async function convertToInteractive(key) {\n",
              "          const element = document.querySelector('#df-e68cc236-eed1-4885-a3d4-f2b0d5e3ae55');\n",
              "          const dataTable =\n",
              "            await google.colab.kernel.invokeFunction('convertToInteractive',\n",
              "                                                     [key], {});\n",
              "          if (!dataTable) return;\n",
              "\n",
              "          const docLinkHtml = 'Like what you see? Visit the ' +\n",
              "            '<a target=\"_blank\" href=https://colab.research.google.com/notebooks/data_table.ipynb>data table notebook</a>'\n",
              "            + ' to learn more about interactive tables.';\n",
              "          element.innerHTML = '';\n",
              "          dataTable['output_type'] = 'display_data';\n",
              "          await google.colab.output.renderOutput(dataTable, element);\n",
              "          const docLink = document.createElement('div');\n",
              "          docLink.innerHTML = docLinkHtml;\n",
              "          element.appendChild(docLink);\n",
              "        }\n",
              "      </script>\n",
              "    </div>\n",
              "  </div>\n",
              "  "
            ],
            "text/plain": [
              "     Input  Information_Gain\n",
              "14     V14          0.803280\n",
              "4       V4          0.058823\n",
              "12     V12          0.024608\n",
              "20     V20          0.023357\n",
              "29  Amount          0.016167\n",
              "13     V13          0.013813\n",
              "0     Time          0.009458\n",
              "26     V26          0.008765\n",
              "5       V5          0.007499\n",
              "10     V10          0.007488\n",
              "7       V7          0.007035\n",
              "28     V28          0.005021\n",
              "19     V19          0.004050\n",
              "22     V22          0.003999\n",
              "1       V1          0.003932\n",
              "23     V23          0.001742\n",
              "11     V11          0.000964\n",
              "21     V21          0.000000\n",
              "27     V27          0.000000\n",
              "25     V25          0.000000\n",
              "24     V24          0.000000\n",
              "18     V18          0.000000\n",
              "2       V2          0.000000\n",
              "8       V8          0.000000\n",
              "17     V17          0.000000\n",
              "16     V16          0.000000\n",
              "3       V3          0.000000\n",
              "6       V6          0.000000\n",
              "9       V9          0.000000\n",
              "15     V15          0.000000"
            ]
          },
          "execution_count": 42,
          "metadata": {},
          "output_type": "execute_result"
        }
      ],
      "source": [
        "#cretae a dataframe for information gain\n",
        "dic={'Input':column,'Information_Gain':IG}\n",
        "df2=pd.DataFrame(dic)\n",
        "df2.sort_values('Information_Gain',ascending=False)\n"
      ]
    },
    {
      "cell_type": "code",
      "execution_count": null,
      "metadata": {
        "id": "z9xcsaj5TrFv"
      },
      "outputs": [],
      "source": [
        "#apply 2nd method min_sample_leaf:\n",
        "#2nd purning technique : min_samples_leaf\n",
        "#min_samples_leaf =50 or more means not less than=50\n",
        "##create object of DecisionTreeClassifier class\n",
        "dt2=DecisionTreeClassifier(min_samples_leaf=70,random_state=1)"
      ]
    },
    {
      "cell_type": "code",
      "execution_count": null,
      "metadata": {
        "colab": {
          "base_uri": "https://localhost:8080/"
        },
        "id": "GzPUW0cOUT0Y",
        "outputId": "ba0a4541-3bd3-4ecc-f530-9137e0c461e3"
      },
      "outputs": [
        {
          "name": "stdout",
          "output_type": "stream",
          "text": [
            "              precision    recall  f1-score   support\n",
            "\n",
            "           0       0.83      1.00      0.91     85308\n",
            "           1       1.00      0.80      0.89     85308\n",
            "\n",
            "    accuracy                           0.90    170616\n",
            "   macro avg       0.92      0.90      0.90    170616\n",
            "weighted avg       0.92      0.90      0.90    170616\n",
            "\n",
            "confusion matrix:\n",
            "[[85019   289]\n",
            " [16877 68431]]\n"
          ]
        }
      ],
      "source": [
        "#call function(train the model)\n",
        "dt2=create_model(dt2)"
      ]
    },
    {
      "cell_type": "code",
      "execution_count": null,
      "metadata": {
        "id": "RY1vcUTcUdal"
      },
      "outputs": [],
      "source": [
        "# max_depth=4 of pruning technique is best for the creditcard dataset till that."
      ]
    },
    {
      "cell_type": "code",
      "execution_count": null,
      "metadata": {
        "colab": {
          "base_uri": "https://localhost:8080/",
          "height": 1000
        },
        "id": "4l1KVVo6XoeX",
        "outputId": "e7a44605-7164-4a6d-f39b-672e917847ce"
      },
      "outputs": [
        {
          "name": "stdout",
          "output_type": "stream",
          "text": [
            "[1.28246477e-02 4.60470753e-03 1.29815684e-06 7.91830540e-04\n",
            " 5.60788863e-02 7.01740261e-03 1.96609004e-03 1.20823112e-02\n",
            " 9.26084431e-03 4.20077014e-03 1.17621080e-02 9.01644783e-04\n",
            " 2.46946584e-02 1.83824491e-02 7.51698454e-01 8.91708847e-04\n",
            " 5.59056319e-06 5.76793400e-03 1.49487039e-03 1.13573029e-02\n",
            " 2.18560434e-02 1.76249800e-03 3.74354299e-03 1.21640024e-03\n",
            " 6.27094644e-08 2.36430769e-03 8.88614827e-03 4.52685032e-03\n",
            " 4.73100738e-03 1.51276294e-02]\n"
          ]
        },
        {
          "data": {
            "text/html": [
              "\n",
              "  <div id=\"df-456d30e3-872b-451d-92d5-4feaec77a0d6\">\n",
              "    <div class=\"colab-df-container\">\n",
              "      <div>\n",
              "<style scoped>\n",
              "    .dataframe tbody tr th:only-of-type {\n",
              "        vertical-align: middle;\n",
              "    }\n",
              "\n",
              "    .dataframe tbody tr th {\n",
              "        vertical-align: top;\n",
              "    }\n",
              "\n",
              "    .dataframe thead th {\n",
              "        text-align: right;\n",
              "    }\n",
              "</style>\n",
              "<table border=\"1\" class=\"dataframe\">\n",
              "  <thead>\n",
              "    <tr style=\"text-align: right;\">\n",
              "      <th></th>\n",
              "      <th>Input</th>\n",
              "      <th>Information_Gain</th>\n",
              "    </tr>\n",
              "  </thead>\n",
              "  <tbody>\n",
              "    <tr>\n",
              "      <th>14</th>\n",
              "      <td>V14</td>\n",
              "      <td>7.516985e-01</td>\n",
              "    </tr>\n",
              "    <tr>\n",
              "      <th>4</th>\n",
              "      <td>V4</td>\n",
              "      <td>5.607889e-02</td>\n",
              "    </tr>\n",
              "    <tr>\n",
              "      <th>12</th>\n",
              "      <td>V12</td>\n",
              "      <td>2.469466e-02</td>\n",
              "    </tr>\n",
              "    <tr>\n",
              "      <th>20</th>\n",
              "      <td>V20</td>\n",
              "      <td>2.185604e-02</td>\n",
              "    </tr>\n",
              "    <tr>\n",
              "      <th>13</th>\n",
              "      <td>V13</td>\n",
              "      <td>1.838245e-02</td>\n",
              "    </tr>\n",
              "    <tr>\n",
              "      <th>29</th>\n",
              "      <td>Amount</td>\n",
              "      <td>1.512763e-02</td>\n",
              "    </tr>\n",
              "    <tr>\n",
              "      <th>0</th>\n",
              "      <td>Time</td>\n",
              "      <td>1.282465e-02</td>\n",
              "    </tr>\n",
              "    <tr>\n",
              "      <th>7</th>\n",
              "      <td>V7</td>\n",
              "      <td>1.208231e-02</td>\n",
              "    </tr>\n",
              "    <tr>\n",
              "      <th>10</th>\n",
              "      <td>V10</td>\n",
              "      <td>1.176211e-02</td>\n",
              "    </tr>\n",
              "    <tr>\n",
              "      <th>19</th>\n",
              "      <td>V19</td>\n",
              "      <td>1.135730e-02</td>\n",
              "    </tr>\n",
              "    <tr>\n",
              "      <th>8</th>\n",
              "      <td>V8</td>\n",
              "      <td>9.260844e-03</td>\n",
              "    </tr>\n",
              "    <tr>\n",
              "      <th>26</th>\n",
              "      <td>V26</td>\n",
              "      <td>8.886148e-03</td>\n",
              "    </tr>\n",
              "    <tr>\n",
              "      <th>5</th>\n",
              "      <td>V5</td>\n",
              "      <td>7.017403e-03</td>\n",
              "    </tr>\n",
              "    <tr>\n",
              "      <th>17</th>\n",
              "      <td>V17</td>\n",
              "      <td>5.767934e-03</td>\n",
              "    </tr>\n",
              "    <tr>\n",
              "      <th>28</th>\n",
              "      <td>V28</td>\n",
              "      <td>4.731007e-03</td>\n",
              "    </tr>\n",
              "    <tr>\n",
              "      <th>1</th>\n",
              "      <td>V1</td>\n",
              "      <td>4.604708e-03</td>\n",
              "    </tr>\n",
              "    <tr>\n",
              "      <th>27</th>\n",
              "      <td>V27</td>\n",
              "      <td>4.526850e-03</td>\n",
              "    </tr>\n",
              "    <tr>\n",
              "      <th>9</th>\n",
              "      <td>V9</td>\n",
              "      <td>4.200770e-03</td>\n",
              "    </tr>\n",
              "    <tr>\n",
              "      <th>22</th>\n",
              "      <td>V22</td>\n",
              "      <td>3.743543e-03</td>\n",
              "    </tr>\n",
              "    <tr>\n",
              "      <th>25</th>\n",
              "      <td>V25</td>\n",
              "      <td>2.364308e-03</td>\n",
              "    </tr>\n",
              "    <tr>\n",
              "      <th>6</th>\n",
              "      <td>V6</td>\n",
              "      <td>1.966090e-03</td>\n",
              "    </tr>\n",
              "    <tr>\n",
              "      <th>21</th>\n",
              "      <td>V21</td>\n",
              "      <td>1.762498e-03</td>\n",
              "    </tr>\n",
              "    <tr>\n",
              "      <th>18</th>\n",
              "      <td>V18</td>\n",
              "      <td>1.494870e-03</td>\n",
              "    </tr>\n",
              "    <tr>\n",
              "      <th>23</th>\n",
              "      <td>V23</td>\n",
              "      <td>1.216400e-03</td>\n",
              "    </tr>\n",
              "    <tr>\n",
              "      <th>11</th>\n",
              "      <td>V11</td>\n",
              "      <td>9.016448e-04</td>\n",
              "    </tr>\n",
              "    <tr>\n",
              "      <th>15</th>\n",
              "      <td>V15</td>\n",
              "      <td>8.917088e-04</td>\n",
              "    </tr>\n",
              "    <tr>\n",
              "      <th>3</th>\n",
              "      <td>V3</td>\n",
              "      <td>7.918305e-04</td>\n",
              "    </tr>\n",
              "    <tr>\n",
              "      <th>16</th>\n",
              "      <td>V16</td>\n",
              "      <td>5.590563e-06</td>\n",
              "    </tr>\n",
              "    <tr>\n",
              "      <th>2</th>\n",
              "      <td>V2</td>\n",
              "      <td>1.298157e-06</td>\n",
              "    </tr>\n",
              "    <tr>\n",
              "      <th>24</th>\n",
              "      <td>V24</td>\n",
              "      <td>6.270946e-08</td>\n",
              "    </tr>\n",
              "  </tbody>\n",
              "</table>\n",
              "</div>\n",
              "      <button class=\"colab-df-convert\" onclick=\"convertToInteractive('df-456d30e3-872b-451d-92d5-4feaec77a0d6')\"\n",
              "              title=\"Convert this dataframe to an interactive table.\"\n",
              "              style=\"display:none;\">\n",
              "        \n",
              "  <svg xmlns=\"http://www.w3.org/2000/svg\" height=\"24px\"viewBox=\"0 0 24 24\"\n",
              "       width=\"24px\">\n",
              "    <path d=\"M0 0h24v24H0V0z\" fill=\"none\"/>\n",
              "    <path d=\"M18.56 5.44l.94 2.06.94-2.06 2.06-.94-2.06-.94-.94-2.06-.94 2.06-2.06.94zm-11 1L8.5 8.5l.94-2.06 2.06-.94-2.06-.94L8.5 2.5l-.94 2.06-2.06.94zm10 10l.94 2.06.94-2.06 2.06-.94-2.06-.94-.94-2.06-.94 2.06-2.06.94z\"/><path d=\"M17.41 7.96l-1.37-1.37c-.4-.4-.92-.59-1.43-.59-.52 0-1.04.2-1.43.59L10.3 9.45l-7.72 7.72c-.78.78-.78 2.05 0 2.83L4 21.41c.39.39.9.59 1.41.59.51 0 1.02-.2 1.41-.59l7.78-7.78 2.81-2.81c.8-.78.8-2.07 0-2.86zM5.41 20L4 18.59l7.72-7.72 1.47 1.35L5.41 20z\"/>\n",
              "  </svg>\n",
              "      </button>\n",
              "      \n",
              "  <style>\n",
              "    .colab-df-container {\n",
              "      display:flex;\n",
              "      flex-wrap:wrap;\n",
              "      gap: 12px;\n",
              "    }\n",
              "\n",
              "    .colab-df-convert {\n",
              "      background-color: #E8F0FE;\n",
              "      border: none;\n",
              "      border-radius: 50%;\n",
              "      cursor: pointer;\n",
              "      display: none;\n",
              "      fill: #1967D2;\n",
              "      height: 32px;\n",
              "      padding: 0 0 0 0;\n",
              "      width: 32px;\n",
              "    }\n",
              "\n",
              "    .colab-df-convert:hover {\n",
              "      background-color: #E2EBFA;\n",
              "      box-shadow: 0px 1px 2px rgba(60, 64, 67, 0.3), 0px 1px 3px 1px rgba(60, 64, 67, 0.15);\n",
              "      fill: #174EA6;\n",
              "    }\n",
              "\n",
              "    [theme=dark] .colab-df-convert {\n",
              "      background-color: #3B4455;\n",
              "      fill: #D2E3FC;\n",
              "    }\n",
              "\n",
              "    [theme=dark] .colab-df-convert:hover {\n",
              "      background-color: #434B5C;\n",
              "      box-shadow: 0px 1px 3px 1px rgba(0, 0, 0, 0.15);\n",
              "      filter: drop-shadow(0px 1px 2px rgba(0, 0, 0, 0.3));\n",
              "      fill: #FFFFFF;\n",
              "    }\n",
              "  </style>\n",
              "\n",
              "      <script>\n",
              "        const buttonEl =\n",
              "          document.querySelector('#df-456d30e3-872b-451d-92d5-4feaec77a0d6 button.colab-df-convert');\n",
              "        buttonEl.style.display =\n",
              "          google.colab.kernel.accessAllowed ? 'block' : 'none';\n",
              "\n",
              "        async function convertToInteractive(key) {\n",
              "          const element = document.querySelector('#df-456d30e3-872b-451d-92d5-4feaec77a0d6');\n",
              "          const dataTable =\n",
              "            await google.colab.kernel.invokeFunction('convertToInteractive',\n",
              "                                                     [key], {});\n",
              "          if (!dataTable) return;\n",
              "\n",
              "          const docLinkHtml = 'Like what you see? Visit the ' +\n",
              "            '<a target=\"_blank\" href=https://colab.research.google.com/notebooks/data_table.ipynb>data table notebook</a>'\n",
              "            + ' to learn more about interactive tables.';\n",
              "          element.innerHTML = '';\n",
              "          dataTable['output_type'] = 'display_data';\n",
              "          await google.colab.output.renderOutput(dataTable, element);\n",
              "          const docLink = document.createElement('div');\n",
              "          docLink.innerHTML = docLinkHtml;\n",
              "          element.appendChild(docLink);\n",
              "        }\n",
              "      </script>\n",
              "    </div>\n",
              "  </div>\n",
              "  "
            ],
            "text/plain": [
              "     Input  Information_Gain\n",
              "14     V14      7.516985e-01\n",
              "4       V4      5.607889e-02\n",
              "12     V12      2.469466e-02\n",
              "20     V20      2.185604e-02\n",
              "13     V13      1.838245e-02\n",
              "29  Amount      1.512763e-02\n",
              "0     Time      1.282465e-02\n",
              "7       V7      1.208231e-02\n",
              "10     V10      1.176211e-02\n",
              "19     V19      1.135730e-02\n",
              "8       V8      9.260844e-03\n",
              "26     V26      8.886148e-03\n",
              "5       V5      7.017403e-03\n",
              "17     V17      5.767934e-03\n",
              "28     V28      4.731007e-03\n",
              "1       V1      4.604708e-03\n",
              "27     V27      4.526850e-03\n",
              "9       V9      4.200770e-03\n",
              "22     V22      3.743543e-03\n",
              "25     V25      2.364308e-03\n",
              "6       V6      1.966090e-03\n",
              "21     V21      1.762498e-03\n",
              "18     V18      1.494870e-03\n",
              "23     V23      1.216400e-03\n",
              "11     V11      9.016448e-04\n",
              "15     V15      8.917088e-04\n",
              "3       V3      7.918305e-04\n",
              "16     V16      5.590563e-06\n",
              "2       V2      1.298157e-06\n",
              "24     V24      6.270946e-08"
            ]
          },
          "execution_count": 46,
          "metadata": {},
          "output_type": "execute_result"
        }
      ],
      "source": [
        "#display the information gain\n",
        "\n",
        "IG=dt2.feature_importances_\n",
        "print(IG)\n",
        "column=X.columns\n",
        "\n",
        "#creaet a dataframe\n",
        "dic={'Input':column,'Information_Gain':IG}\n",
        "df3=pd.DataFrame(dic)\n",
        "df3.sort_values('Information_Gain',ascending=False)\n"
      ]
    },
    {
      "cell_type": "code",
      "execution_count": null,
      "metadata": {
        "colab": {
          "base_uri": "https://localhost:8080/",
          "height": 34
        },
        "id": "Opl-VA-sYlkN",
        "outputId": "5173d02f-7902-4c5e-d5a3-9e230c3212f9"
      },
      "outputs": [
        {
          "data": {
            "text/plain": [
              "<Figure size 1440x1440 with 0 Axes>"
            ]
          },
          "metadata": {},
          "output_type": "display_data"
        }
      ],
      "source": [
        "#create tree with min_samples_leaf\n",
        "fig=plt.figure(figsize=(20,20))\n",
        "#_=tree.plot_tree(dt2,feature_names=features,filled=True)"
      ]
    },
    {
      "cell_type": "code",
      "execution_count": null,
      "metadata": {
        "id": "7ahzpA98Y9xT"
      },
      "outputs": [],
      "source": [
        "#use of entropy method\n",
        "#use entropy method of decisiontree \n",
        "#means -P(yes)*log2P(yes)-P(No)*log2(P(no))\n",
        "#here log2 means base of log=2\n",
        "##create object of DecisionTreeClassifier class\n",
        "dt3=DecisionTreeClassifier(criterion='entropy',\n",
        "                           max_depth=3,random_state=1)\n",
        "#bydefault criterion='gini' means 1-P(yes)^2-Q(no)^2"
      ]
    },
    {
      "cell_type": "code",
      "execution_count": null,
      "metadata": {
        "colab": {
          "base_uri": "https://localhost:8080/"
        },
        "id": "SXud8XvLZYEr",
        "outputId": "da73ad89-491c-47b8-8a8a-b9d31066b759"
      },
      "outputs": [
        {
          "name": "stdout",
          "output_type": "stream",
          "text": [
            "              precision    recall  f1-score   support\n",
            "\n",
            "           0       0.87      0.97      0.92     85308\n",
            "           1       0.97      0.85      0.91     85308\n",
            "\n",
            "    accuracy                           0.91    170616\n",
            "   macro avg       0.92      0.91      0.91    170616\n",
            "weighted avg       0.92      0.91      0.91    170616\n",
            "\n",
            "confusion matrix:\n",
            "[[82844  2464]\n",
            " [12473 72835]]\n"
          ]
        }
      ],
      "source": [
        "#call function train the model with max_depth of entropy method\n",
        "dt3=create_model(dt3)"
      ]
    },
    {
      "cell_type": "code",
      "execution_count": null,
      "metadata": {
        "id": "AJ8K5nmLZuXq"
      },
      "outputs": [],
      "source": [
        "#create object of decisionTreeClasifier class\n",
        "dt4=DecisionTreeClassifier(criterion='entropy',min_samples_leaf=70,random_state=1)"
      ]
    },
    {
      "cell_type": "code",
      "execution_count": null,
      "metadata": {
        "colab": {
          "base_uri": "https://localhost:8080/"
        },
        "id": "XdhKmXf4bYEH",
        "outputId": "efa6a5d6-f33b-455f-e762-191198e467f8"
      },
      "outputs": [
        {
          "name": "stdout",
          "output_type": "stream",
          "text": [
            "              precision    recall  f1-score   support\n",
            "\n",
            "           0       0.83      1.00      0.91     85308\n",
            "           1       1.00      0.80      0.89     85308\n",
            "\n",
            "    accuracy                           0.90    170616\n",
            "   macro avg       0.92      0.90      0.90    170616\n",
            "weighted avg       0.92      0.90      0.90    170616\n",
            "\n",
            "confusion matrix:\n",
            "[[85033   275]\n",
            " [16908 68400]]\n"
          ]
        }
      ],
      "source": [
        "#call function and train the model with min_samples_leaf of entropy method\n",
        "dt4=create_model(dt4)"
      ]
    },
    {
      "cell_type": "code",
      "execution_count": null,
      "metadata": {
        "id": "gFLZ_nFBfiyd"
      },
      "outputs": [],
      "source": [
        "#The max_depth with gini index is best for creditcard dataset from both of gini index and entropy of max_Depth and min_samples_leaf method\n",
        "#The value of max_depth of gini index is 6 score is 0.85 this is the good for credit card dataset"
      ]
    },
    {
      "cell_type": "code",
      "execution_count": null,
      "metadata": {
        "colab": {
          "base_uri": "https://localhost:8080/",
          "height": 53
        },
        "id": "UkkJnAZdgFRN",
        "outputId": "1e2d7221-b792-4aa4-df1f-e5ca64ac5d9d"
      },
      "outputs": [
        {
          "data": {
            "application/vnd.google.colaboratory.intrinsic+json": {
              "type": "string"
            },
            "text/plain": [
              "'Énsembling Technique:-\\n1.Naive Aggregation method\\n  a.Hard voting  b.soft voting\\n2.Bootstraping method\\n a.Bagging   b.pasting  c.random forest tree\\n3.Boosting Technique\\n a.ADA Boost   b.Gradient Boost  c.xtreme Gradient Boost(XGB)\\n4.Stacking classifier \\n'"
            ]
          },
          "execution_count": 53,
          "metadata": {},
          "output_type": "execute_result"
        }
      ],
      "source": [
        "'''Énsembling Technique:-\n",
        "1.Naive Aggregation method\n",
        "  a.Hard voting  b.soft voting\n",
        "2.Bootstraping method\n",
        " a.Bagging   b.pasting  c.random forest tree\n",
        "3.Boosting Technique\n",
        " a.ADA Boost   b.Gradient Boost  c.xtreme Gradient Boost(XGB)\n",
        "4.Stacking classifier \n",
        "'''\n",
        "\n",
        "#only Bootstraping method and Boosting techniques are we study here\n",
        "#only those 2 methods are important for data scientist"
      ]
    },
    {
      "cell_type": "code",
      "execution_count": null,
      "metadata": {
        "colab": {
          "base_uri": "https://localhost:8080/",
          "height": 35
        },
        "id": "jWk4oxRlgQbL",
        "outputId": "0eacc3a2-526a-4981-d264-4651d3e3a9ec"
      },
      "outputs": [
        {
          "data": {
            "application/vnd.google.colaboratory.intrinsic+json": {
              "type": "string"
            },
            "text/plain": [
              "'\\nTrain the dataset on multiple decisiontreeclassifier algorithum\\n\\n'"
            ]
          },
          "execution_count": 54,
          "metadata": {},
          "output_type": "execute_result"
        }
      ],
      "source": [
        "#Ensembling Technique\n",
        "#Random forest tree:-\n",
        "#Random forest tree mostly work on bagging\n",
        "'''\n",
        "Train the dataset on multiple decisiontreeclassifier algorithum\n",
        "\n",
        "'''\n",
        "#call random forest tree from pckage\n",
        "#ensemble means to train the same dataset from multiple algorithum"
      ]
    },
    {
      "cell_type": "code",
      "execution_count": null,
      "metadata": {
        "id": "XXHBXGw5gXHR"
      },
      "outputs": [],
      "source": [
        "#import the randomforesttree \n",
        "from sklearn.ensemble import RandomForestClassifier\n",
        "\n",
        "#create object of randomforestclasifer\n",
        "rfc=RandomForestClassifier(n_estimators=10,max_features=15,random_state=1)\n",
        "\n",
        "#here n_estimators means take how many no. of decisiontreeclassifier\n",
        "#max_features mean max important columns means input"
      ]
    },
    {
      "cell_type": "code",
      "execution_count": null,
      "metadata": {
        "colab": {
          "base_uri": "https://localhost:8080/"
        },
        "id": "o0IIxJiRgt_S",
        "outputId": "5987f2d3-b7c8-4c26-af29-847c7ce7d834"
      },
      "outputs": [
        {
          "name": "stdout",
          "output_type": "stream",
          "text": [
            "              precision    recall  f1-score   support\n",
            "\n",
            "           0       0.79      1.00      0.88     85308\n",
            "           1       1.00      0.73      0.85     85308\n",
            "\n",
            "    accuracy                           0.87    170616\n",
            "   macro avg       0.89      0.87      0.86    170616\n",
            "weighted avg       0.89      0.87      0.86    170616\n",
            "\n",
            "confusion matrix:\n",
            "[[85300     8]\n",
            " [22661 62647]]\n"
          ]
        }
      ],
      "source": [
        "#create the model\n",
        "#call the function\n",
        "rfc=create_model(rfc)"
      ]
    },
    {
      "cell_type": "markdown",
      "metadata": {
        "id": "UW2kCh1Jivk2"
      },
      "source": [
        "ADA Boosting"
      ]
    },
    {
      "cell_type": "code",
      "execution_count": null,
      "metadata": {
        "id": "_k4_DQ9qiy_J"
      },
      "outputs": [],
      "source": [
        "#ADA Boosting :-ADA Boost making decision stump\n",
        "#Apply ADA Boost on given dataset\n",
        "from sklearn.ensemble import AdaBoostClassifier"
      ]
    },
    {
      "cell_type": "code",
      "execution_count": null,
      "metadata": {
        "id": "IdAUkCcfjkYM"
      },
      "outputs": [],
      "source": [
        "#create the object of AdaBoostClassifier class\n",
        "ada=AdaBoostClassifier(n_estimators=25,random_state=1)\n",
        "#n_Estimators can be <=100 means n_estimators can not be more then 100"
      ]
    },
    {
      "cell_type": "code",
      "execution_count": null,
      "metadata": {
        "colab": {
          "base_uri": "https://localhost:8080/"
        },
        "id": "-TJ6V5DzkDWB",
        "outputId": "bcc3863b-681c-4efc-818d-df902598d990"
      },
      "outputs": [
        {
          "name": "stdout",
          "output_type": "stream",
          "text": [
            "              precision    recall  f1-score   support\n",
            "\n",
            "           0       0.89      0.98      0.93     85308\n",
            "           1       0.97      0.88      0.92     85308\n",
            "\n",
            "    accuracy                           0.93    170616\n",
            "   macro avg       0.93      0.93      0.93    170616\n",
            "weighted avg       0.93      0.93      0.93    170616\n",
            "\n",
            "confusion matrix:\n",
            "[[83247  2061]\n",
            " [10610 74698]]\n"
          ]
        }
      ],
      "source": [
        "#call fuction\n",
        "ada=create_model(ada)"
      ]
    },
    {
      "cell_type": "code",
      "execution_count": null,
      "metadata": {
        "id": "_M8GiBSzkIFa"
      },
      "outputs": [],
      "source": [
        "#Gradient Boosting:-\n",
        "#2.Gradient Boosting:-Its basically focus on short comings error menas fully grown tree\n",
        "#error means residual=actual output-predicted output\n",
        "\n",
        "#2.gradient boost technique:-second technique of Boosting Ensembling technique\n",
        "#GB:-its create a fully grown tree this algorithum is focus on short comings error."
      ]
    },
    {
      "cell_type": "code",
      "execution_count": null,
      "metadata": {
        "id": "rsIKHkD8ptRW"
      },
      "outputs": [],
      "source": [
        "#call Gradient Boosting class\n",
        "from sklearn.ensemble import GradientBoostingClassifier"
      ]
    },
    {
      "cell_type": "code",
      "execution_count": null,
      "metadata": {
        "id": "5NcEqGz1p8xG"
      },
      "outputs": [],
      "source": [
        "#create object of GradientBoostingClassifier\n",
        "gb=GradientBoostingClassifier(n_estimators=25,random_state=1)\n",
        "#n_estimators can be <=100 bydefault algorithum decisiontreeclassifier"
      ]
    },
    {
      "cell_type": "code",
      "execution_count": null,
      "metadata": {
        "colab": {
          "base_uri": "https://localhost:8080/"
        },
        "id": "MgFimqcJq0Ae",
        "outputId": "5a0b2ab3-b655-49b9-eec0-c3f462075109"
      },
      "outputs": [
        {
          "name": "stdout",
          "output_type": "stream",
          "text": [
            "              precision    recall  f1-score   support\n",
            "\n",
            "           0       0.88      0.99      0.93     85308\n",
            "           1       0.99      0.87      0.92     85308\n",
            "\n",
            "    accuracy                           0.93    170616\n",
            "   macro avg       0.94      0.93      0.93    170616\n",
            "weighted avg       0.94      0.93      0.93    170616\n",
            "\n",
            "confusion matrix:\n",
            "[[84463   845]\n",
            " [11197 74111]]\n"
          ]
        }
      ],
      "source": [
        "#call the function\n",
        "gb=create_model(gb)"
      ]
    },
    {
      "cell_type": "markdown",
      "metadata": {
        "id": "YEYgWVdlwVEG"
      },
      "source": [
        "Xtreme Gradient Boosting Dataset:_"
      ]
    },
    {
      "cell_type": "code",
      "execution_count": null,
      "metadata": {
        "id": "5aNLb9baq9WY"
      },
      "outputs": [],
      "source": [
        "#xtreme Gradient Boosting:3rd technique of Boosting\n",
        "#This is better version of gradient Boosting__hort fromXB\n",
        "#why call better version of Gradient Boosting:-\n",
        "#  1.XG Boosting use:-Multithreading technique\n",
        "#  2.It takes less memory space and faster\n",
        "#  3.It is very useful to handle huge amt of data:-Its deal large amt of data\n",
        "#  4.Its handle outlier because have inbuilt capability\n",
        "#  5.Its handle null values\n",
        "#  6.Its handle automatic overfitting situation."
      ]
    },
    {
      "cell_type": "code",
      "execution_count": null,
      "metadata": {
        "colab": {
          "base_uri": "https://localhost:8080/"
        },
        "id": "6bi3ru2yx-Z2",
        "outputId": "5ab459ab-9e2d-46c6-bfa7-2afe85f42751"
      },
      "outputs": [
        {
          "name": "stdout",
          "output_type": "stream",
          "text": [
            "Requirement already satisfied: xgboost in /usr/local/lib/python3.7/dist-packages (0.90)\n",
            "Requirement already satisfied: numpy in /usr/local/lib/python3.7/dist-packages (from xgboost) (1.21.5)\n",
            "Requirement already satisfied: scipy in /usr/local/lib/python3.7/dist-packages (from xgboost) (1.4.1)\n"
          ]
        }
      ],
      "source": [
        "#install the external package from python's community first for XGBoost\n",
        "!pip install xgboost"
      ]
    },
    {
      "cell_type": "code",
      "execution_count": null,
      "metadata": {
        "id": "Sw31ajVwyeRL"
      },
      "outputs": [],
      "source": [
        "#import the class of xtremegradientboosting\n",
        "from xgboost import XGBClassifier\n"
      ]
    },
    {
      "cell_type": "code",
      "execution_count": null,
      "metadata": {
        "id": "Y631e3381HCj"
      },
      "outputs": [],
      "source": [
        "#create object of XGBClassifier\n",
        "xgb=XGBClassifier(n_estimators=25,reg_alpha=1,random_state=1)\n",
        "\n",
        "#automatic overfitting:reg means regularization and alpha or lambda:hyperparameter\n",
        "#n_estimators can be <=100"
      ]
    },
    {
      "cell_type": "code",
      "execution_count": null,
      "metadata": {
        "colab": {
          "base_uri": "https://localhost:8080/"
        },
        "id": "HNHwoEhpFNHK",
        "outputId": "6896db9d-bda4-4ac8-ed3f-b5041d716d55"
      },
      "outputs": [
        {
          "name": "stdout",
          "output_type": "stream",
          "text": [
            "              precision    recall  f1-score   support\n",
            "\n",
            "           0       0.87      0.99      0.93     85308\n",
            "           1       0.99      0.85      0.92     85308\n",
            "\n",
            "    accuracy                           0.92    170616\n",
            "   macro avg       0.93      0.92      0.92    170616\n",
            "weighted avg       0.93      0.92      0.92    170616\n",
            "\n",
            "confusion matrix:\n",
            "[[84730   578]\n",
            " [12412 72896]]\n"
          ]
        }
      ],
      "source": [
        "#call the function\n",
        "xgb=create_model(xgb)"
      ]
    },
    {
      "cell_type": "code",
      "execution_count": null,
      "metadata": {
        "id": "GXIRfzCMnk_P"
      },
      "outputs": [],
      "source": [
        "#In Boosting technique the Ada Boost technique is bets for our dataset because using €ada€boost technique our core is 88."
      ]
    },
    {
      "cell_type": "markdown",
      "metadata": {
        "id": "oCWm_hZbhGTW"
      },
      "source": [
        "KNN-algorithum:-\n"
      ]
    },
    {
      "cell_type": "code",
      "execution_count": null,
      "metadata": {
        "id": "u06sSeSHmDFH"
      },
      "outputs": [],
      "source": [
        "#SVC:support vector classifier\n",
        "from sklearn.svm import LinearSVC"
      ]
    },
    {
      "cell_type": "code",
      "execution_count": null,
      "metadata": {
        "id": "D86y5B1SmOMB"
      },
      "outputs": [],
      "source": [
        "#create object of LinearSVC class\n",
        "svc=LinearSVC(random_state=1)  #by default hard margin"
      ]
    },
    {
      "cell_type": "code",
      "execution_count": null,
      "metadata": {
        "colab": {
          "base_uri": "https://localhost:8080/"
        },
        "id": "ZKgvVJ4OmcQd",
        "outputId": "2698add6-c779-4f0b-d16b-201b5d4237de"
      },
      "outputs": [
        {
          "name": "stdout",
          "output_type": "stream",
          "text": [
            "              precision    recall  f1-score   support\n",
            "\n",
            "           0       0.89      0.98      0.94     85308\n",
            "           1       0.98      0.88      0.93     85308\n",
            "\n",
            "    accuracy                           0.93    170616\n",
            "   macro avg       0.94      0.93      0.93    170616\n",
            "weighted avg       0.94      0.93      0.93    170616\n",
            "\n",
            "confusion matrix:\n",
            "[[83898  1410]\n",
            " [10001 75307]]\n"
          ]
        }
      ],
      "source": [
        "#call function\n",
        "svc=create_model(svc)"
      ]
    },
    {
      "cell_type": "code",
      "execution_count": null,
      "metadata": {
        "id": "O_otC-OQmgHz"
      },
      "outputs": [],
      "source": [
        "#Soft margin means to reduced overfitting situation means some error add on\n",
        "#training time \n",
        "#create object of LinearSVC class\n",
        "svc1=LinearSVC(random_state=1,C=0.5)    #C means adding error\n",
        "##add some error on training time set error 0.01,0.05,....... \n",
        "#value of parameter C is not more than 1\n",
        "#we does not add more error means c values are large"
      ]
    },
    {
      "cell_type": "code",
      "execution_count": null,
      "metadata": {
        "colab": {
          "background_save": true
        },
        "id": "Ohs8dgn-nECp",
        "outputId": "bfc40d6a-4a66-4ea4-faaa-49167e5881b0"
      },
      "outputs": [
        {
          "name": "stdout",
          "output_type": "stream",
          "text": [
            "              precision    recall  f1-score   support\n",
            "\n",
            "           0       0.89      0.98      0.94     85308\n",
            "           1       0.98      0.88      0.93     85308\n",
            "\n",
            "    accuracy                           0.93    170616\n",
            "   macro avg       0.94      0.93      0.93    170616\n",
            "weighted avg       0.94      0.93      0.93    170616\n",
            "\n",
            "confusion matrix:\n",
            "[[83896  1412]\n",
            " [10001 75307]]\n"
          ]
        }
      ],
      "source": [
        "#call the function\n",
        "svc1=create_model(svc1)"
      ]
    },
    {
      "cell_type": "code",
      "execution_count": null,
      "metadata": {
        "colab": {
          "background_save": true
        },
        "id": "IdB1NdvenJmK"
      },
      "outputs": [],
      "source": [
        "#if add external error on training time but no any changes on score\n",
        "#means given dataset in non-Linear\n",
        "#can be possible , dataset is not linear means dataset is non-linear  .\n",
        "#use Non-linear kernal function of SVM means 2 classes are not \n",
        "#separatable with straight line"
      ]
    },
    {
      "cell_type": "code",
      "execution_count": null,
      "metadata": {
        "colab": {
          "background_save": true
        },
        "id": "rJIsuhssnpJY"
      },
      "outputs": [],
      "source": [
        "#There are 3 types of Kernal function of SVM\n",
        "#1. Linear SVC  : use for linear data\n",
        "#2. Non-Linear SVC : use for non-linear data\n",
        "  #1. polynomial kernal function : increase the low dimension to high dimension\n",
        "  #2. radial basis kernal function:-draw the circular hyperparameter\n",
        "\n",
        "#here 2. polynomial kernal function : increase the low dimension to \n",
        "#high dimension\n",
        "#3. radial basis kernal function  both are non-linear data"
      ]
    },
    {
      "cell_type": "code",
      "execution_count": null,
      "metadata": {
        "colab": {
          "background_save": true
        },
        "id": "pfrtYAtnnsQK"
      },
      "outputs": [],
      "source": [
        "#2.polynomial kernel function (non-linear)\n",
        "from sklearn.svm import SVC\n",
        "#svc inbuilt class for non-linear data"
      ]
    },
    {
      "cell_type": "code",
      "execution_count": null,
      "metadata": {
        "colab": {
          "background_save": true
        },
        "id": "EFOyIIA9n6nx"
      },
      "outputs": [],
      "source": [
        "#create object of SVC class for polynomial\n",
        "poly_svc=SVC(random_state=1,kernel='poly')"
      ]
    },
    {
      "cell_type": "code",
      "execution_count": null,
      "metadata": {
        "id": "J0fS8ZdgoOtD"
      },
      "outputs": [],
      "source": [
        "#call the function\n",
        "poly_svc=create_model(poly_svc)"
      ]
    },
    {
      "cell_type": "code",
      "execution_count": null,
      "metadata": {
        "id": "UuL0eC798Mfc"
      },
      "outputs": [],
      "source": [
        "#apply radial basis kernel function\n",
        "radial_svc=SVC(random_state=1,kernel=\"rbf\")"
      ]
    },
    {
      "cell_type": "code",
      "execution_count": null,
      "metadata": {
        "id": "0j0xxXwI80bj"
      },
      "outputs": [],
      "source": [
        "#call the function\n",
        "radial_svc=create_model(radial_svc)"
      ]
    },
    {
      "cell_type": "markdown",
      "metadata": {
        "id": "cL1ZvzQ1u0cB"
      },
      "source": [
        "In our credit card dataset to predict accuracy the boosting method and Linear Support Vector Machine algorithum is best for dataset."
      ]
    }
  ],
  "metadata": {
    "colab": {
      "collapsed_sections": [],
      "name": "creditcard_dataset.ipynb",
      "provenance": []
    },
    "kernelspec": {
      "display_name": "Python 3",
      "name": "python3"
    },
    "language_info": {
      "name": "python"
    }
  },
  "nbformat": 4,
  "nbformat_minor": 0
}